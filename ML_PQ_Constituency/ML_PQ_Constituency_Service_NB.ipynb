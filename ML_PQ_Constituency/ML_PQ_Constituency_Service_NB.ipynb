{
 "cells": [
  {
   "cell_type": "markdown",
   "metadata": {},
   "source": [
    "## Notebook for using machine learning and parliamentary questions to measure politicians' constituency service\n",
    "\n",
    "This notebook contains the code for the analysis presented in my Using Machine Learning and Parliamentary Questions to Measure Politicians' Constituency Service blog post."
   ]
  },
  {
   "cell_type": "markdown",
   "metadata": {},
   "source": [
    "### Import the required libraries and functions"
   ]
  },
  {
   "cell_type": "code",
   "execution_count": 26,
   "metadata": {
    "collapsed": false
   },
   "outputs": [],
   "source": [
    "# numpy, pandas, counter\n",
    "import numpy as np\n",
    "import pandas as pd\n",
    "from collections import Counter\n",
    "# matplotlib\n",
    "import matplotlib.pyplot as plt\n",
    "import matplotlib.backends.backend_pdf\n",
    "# seaborn\n",
    "import seaborn as sns\n",
    "# Scikit-learn\n",
    "from sklearn.feature_extraction.text import CountVectorizer\n",
    "from sklearn.model_selection import GridSearchCV, train_test_split, KFold, cross_val_predict\n",
    "from sklearn.feature_extraction.text import TfidfTransformer\n",
    "from sklearn.linear_model import LogisticRegression\n",
    "from sklearn.naive_bayes import MultinomialNB, BernoulliNB\n",
    "from sklearn.svm import SVC\n",
    "from sklearn.preprocessing import label_binarize\n",
    "from sklearn.metrics import accuracy_score, classification_report, f1_score, make_scorer\n",
    "# wordcloud\n",
    "from wordcloud import WordCloud, STOPWORDS\n",
    "%matplotlib inline\n",
    "plt.rcParams[\"axes.labelsize\"] = 15\n",
    "plt.rcParams[\"ytick.labelsize\"] = 'large'"
   ]
  },
  {
   "cell_type": "code",
   "execution_count": 3,
   "metadata": {
    "collapsed": true
   },
   "outputs": [],
   "source": [
    "labelled = pd.read_csv('labelled.csv')"
   ]
  },
  {
   "cell_type": "markdown",
   "metadata": {},
   "source": [
    "### Check that data was imported correctly"
   ]
  },
  {
   "cell_type": "code",
   "execution_count": 4,
   "metadata": {
    "collapsed": false
   },
   "outputs": [
    {
     "data": {
      "text/html": [
       "<div>\n",
       "<table border=\"1\" class=\"dataframe\">\n",
       "  <thead>\n",
       "    <tr style=\"text-align: right;\">\n",
       "      <th></th>\n",
       "      <th>filename</th>\n",
       "      <th>date</th>\n",
       "      <th>speaker</th>\n",
       "      <th>X</th>\n",
       "      <th>Name</th>\n",
       "      <th>Party</th>\n",
       "      <th>Constituency.x</th>\n",
       "      <th>Female</th>\n",
       "      <th>Dynastic</th>\n",
       "      <th>Votes</th>\n",
       "      <th>Vote_share</th>\n",
       "      <th>Quota</th>\n",
       "      <th>ff</th>\n",
       "      <th>gov</th>\n",
       "      <th>docs</th>\n",
       "      <th>dail</th>\n",
       "      <th>ID_unit</th>\n",
       "      <th>Stratum</th>\n",
       "      <th>Local</th>\n",
       "      <th>labels</th>\n",
       "    </tr>\n",
       "  </thead>\n",
       "  <tbody>\n",
       "    <tr>\n",
       "      <th>0</th>\n",
       "      <td>/gpfs/group/dynrr/ireland/xml_by_session/20/xm...</td>\n",
       "      <td>19760701</td>\n",
       "      <td>644</td>\n",
       "      <td>425</td>\n",
       "      <td>Bill Loughnane</td>\n",
       "      <td>Fianna Fail</td>\n",
       "      <td>Clare Galway South</td>\n",
       "      <td>0</td>\n",
       "      <td>0</td>\n",
       "      <td>6956</td>\n",
       "      <td>26.46</td>\n",
       "      <td>1.06</td>\n",
       "      <td>1</td>\n",
       "      <td>0</td>\n",
       "      <td>asked the minister for foreign affairs if he w...</td>\n",
       "      <td>20</td>\n",
       "      <td>6</td>\n",
       "      <td>1</td>\n",
       "      <td>0</td>\n",
       "      <td>not</td>\n",
       "    </tr>\n",
       "    <tr>\n",
       "      <th>1</th>\n",
       "      <td>/gpfs/group/dynrr/ireland/xml_by_session/20/xm...</td>\n",
       "      <td>19760701</td>\n",
       "      <td>644</td>\n",
       "      <td>425</td>\n",
       "      <td>Bill Loughnane</td>\n",
       "      <td>Fianna Fail</td>\n",
       "      <td>Clare Galway South</td>\n",
       "      <td>0</td>\n",
       "      <td>0</td>\n",
       "      <td>6956</td>\n",
       "      <td>26.46</td>\n",
       "      <td>1.06</td>\n",
       "      <td>1</td>\n",
       "      <td>0</td>\n",
       "      <td>asked the minister for foreign affairs if he i...</td>\n",
       "      <td>20</td>\n",
       "      <td>8</td>\n",
       "      <td>1</td>\n",
       "      <td>0</td>\n",
       "      <td>not</td>\n",
       "    </tr>\n",
       "    <tr>\n",
       "      <th>2</th>\n",
       "      <td>/gpfs/group/dynrr/ireland/xml_by_session/20/xm...</td>\n",
       "      <td>19760701</td>\n",
       "      <td>544</td>\n",
       "      <td>414</td>\n",
       "      <td>Thomas Hussey</td>\n",
       "      <td>Fianna Fail</td>\n",
       "      <td>Galway North East</td>\n",
       "      <td>0</td>\n",
       "      <td>0</td>\n",
       "      <td>5340</td>\n",
       "      <td>20.37</td>\n",
       "      <td>0.81</td>\n",
       "      <td>1</td>\n",
       "      <td>0</td>\n",
       "      <td>asked the minister for industry and commerce t...</td>\n",
       "      <td>20</td>\n",
       "      <td>22</td>\n",
       "      <td>1</td>\n",
       "      <td>1</td>\n",
       "      <td>local</td>\n",
       "    </tr>\n",
       "    <tr>\n",
       "      <th>3</th>\n",
       "      <td>/gpfs/group/dynrr/ireland/xml_by_session/20/xm...</td>\n",
       "      <td>19760325</td>\n",
       "      <td>754</td>\n",
       "      <td>237</td>\n",
       "      <td>Thomas Meaney</td>\n",
       "      <td>Fianna Fail</td>\n",
       "      <td>Cork Mid</td>\n",
       "      <td>0</td>\n",
       "      <td>1</td>\n",
       "      <td>10400</td>\n",
       "      <td>25.64</td>\n",
       "      <td>1.28</td>\n",
       "      <td>1</td>\n",
       "      <td>0</td>\n",
       "      <td>asked the minister for agriculture and fisheri...</td>\n",
       "      <td>20</td>\n",
       "      <td>154</td>\n",
       "      <td>1</td>\n",
       "      <td>1</td>\n",
       "      <td>local</td>\n",
       "    </tr>\n",
       "    <tr>\n",
       "      <th>4</th>\n",
       "      <td>/gpfs/group/dynrr/ireland/xml_by_session/20/xm...</td>\n",
       "      <td>19760205</td>\n",
       "      <td>797</td>\n",
       "      <td>585</td>\n",
       "      <td>Ciaran Murphy</td>\n",
       "      <td>Fianna Fail</td>\n",
       "      <td>Wicklow</td>\n",
       "      <td>0</td>\n",
       "      <td>0</td>\n",
       "      <td>4521</td>\n",
       "      <td>15.31</td>\n",
       "      <td>0.61</td>\n",
       "      <td>1</td>\n",
       "      <td>0</td>\n",
       "      <td>asked the minister for education the grants to...</td>\n",
       "      <td>20</td>\n",
       "      <td>252</td>\n",
       "      <td>1</td>\n",
       "      <td>0</td>\n",
       "      <td>not</td>\n",
       "    </tr>\n",
       "  </tbody>\n",
       "</table>\n",
       "</div>"
      ],
      "text/plain": [
       "                                            filename      date  speaker    X  \\\n",
       "0  /gpfs/group/dynrr/ireland/xml_by_session/20/xm...  19760701      644  425   \n",
       "1  /gpfs/group/dynrr/ireland/xml_by_session/20/xm...  19760701      644  425   \n",
       "2  /gpfs/group/dynrr/ireland/xml_by_session/20/xm...  19760701      544  414   \n",
       "3  /gpfs/group/dynrr/ireland/xml_by_session/20/xm...  19760325      754  237   \n",
       "4  /gpfs/group/dynrr/ireland/xml_by_session/20/xm...  19760205      797  585   \n",
       "\n",
       "             Name        Party      Constituency.x  Female  Dynastic  Votes  \\\n",
       "0  Bill Loughnane  Fianna Fail  Clare Galway South       0         0   6956   \n",
       "1  Bill Loughnane  Fianna Fail  Clare Galway South       0         0   6956   \n",
       "2   Thomas Hussey  Fianna Fail   Galway North East       0         0   5340   \n",
       "3   Thomas Meaney  Fianna Fail            Cork Mid       0         1  10400   \n",
       "4   Ciaran Murphy  Fianna Fail             Wicklow       0         0   4521   \n",
       "\n",
       "   Vote_share  Quota  ff  gov  \\\n",
       "0       26.46   1.06   1    0   \n",
       "1       26.46   1.06   1    0   \n",
       "2       20.37   0.81   1    0   \n",
       "3       25.64   1.28   1    0   \n",
       "4       15.31   0.61   1    0   \n",
       "\n",
       "                                                docs  dail  ID_unit  Stratum  \\\n",
       "0  asked the minister for foreign affairs if he w...    20        6        1   \n",
       "1  asked the minister for foreign affairs if he i...    20        8        1   \n",
       "2  asked the minister for industry and commerce t...    20       22        1   \n",
       "3  asked the minister for agriculture and fisheri...    20      154        1   \n",
       "4  asked the minister for education the grants to...    20      252        1   \n",
       "\n",
       "   Local labels  \n",
       "0      0    not  \n",
       "1      0    not  \n",
       "2      1  local  \n",
       "3      1  local  \n",
       "4      0    not  "
      ]
     },
     "execution_count": 4,
     "metadata": {},
     "output_type": "execute_result"
    }
   ],
   "source": [
    "labelled.head(5)"
   ]
  },
  {
   "cell_type": "markdown",
   "metadata": {},
   "source": [
    "### Get the question and label columns for text classification model"
   ]
  },
  {
   "cell_type": "code",
   "execution_count": 5,
   "metadata": {
    "collapsed": true
   },
   "outputs": [],
   "source": [
    "x = labelled['docs']\n",
    "y = labelled[['labels']].values.flatten()\n",
    "y = label_binarize(y, classes=['not', 'local']).ravel()"
   ]
  },
  {
   "cell_type": "markdown",
   "metadata": {},
   "source": [
    "### Prepare data for analysis"
   ]
  },
  {
   "cell_type": "code",
   "execution_count": 7,
   "metadata": {
    "collapsed": true
   },
   "outputs": [],
   "source": [
    "X_train, X_test, y_train, y_test = train_test_split(x, y, test_size=0.2, random_state=1253) #split data"
   ]
  },
  {
   "cell_type": "code",
   "execution_count": 8,
   "metadata": {
    "collapsed": true
   },
   "outputs": [],
   "source": [
    "count_vect = CountVectorizer(decode_error='ignore')\n",
    "X_train_counts = count_vect.fit_transform(X_train)"
   ]
  },
  {
   "cell_type": "code",
   "execution_count": 9,
   "metadata": {
    "collapsed": false
   },
   "outputs": [
    {
     "name": "stdout",
     "output_type": "stream",
     "text": [
      "There are 5,913 words in the vocabulary.\n",
      "(2000,)\n",
      "(2000, 5913)\n",
      "2000\n",
      "Counter({0: 1196, 1: 804})\n"
     ]
    }
   ],
   "source": [
    "print \"There are {:,} words in the vocabulary.\".format(len(count_vect.vocabulary_))\n",
    "print X_train.shape\n",
    "print len(X_train)\n",
    "print Counter(y_train)"
   ]
  },
  {
   "cell_type": "code",
   "execution_count": 13,
   "metadata": {
    "collapsed": true
   },
   "outputs": [],
   "source": [
    "X_test_counts = count_vect.transform(X_test)"
   ]
  },
  {
   "cell_type": "code",
   "execution_count": 14,
   "metadata": {
    "collapsed": false
   },
   "outputs": [
    {
     "name": "stdout",
     "output_type": "stream",
     "text": [
      "(500, 5913)\n",
      "500\n",
      "Counter({0: 299, 1: 201})\n"
     ]
    }
   ],
   "source": [
    "print X_test_counts.shape\n",
    "print len(X_test)\n",
    "print Counter(y_test)"
   ]
  },
  {
   "cell_type": "markdown",
   "metadata": {},
   "source": [
    "### Use cross validation on training set to find optimal model"
   ]
  },
  {
   "cell_type": "code",
   "execution_count": 15,
   "metadata": {
    "collapsed": true
   },
   "outputs": [],
   "source": [
    "kf = KFold(n_splits=10, shuffle=True, random_state=1213)\n",
    "f1_scorer = make_scorer(f1_score)"
   ]
  },
  {
   "cell_type": "markdown",
   "metadata": {},
   "source": [
    "#### Logistic Regression with word counts"
   ]
  },
  {
   "cell_type": "code",
   "execution_count": 16,
   "metadata": {
    "collapsed": false
   },
   "outputs": [
    {
     "name": "stdout",
     "output_type": "stream",
     "text": [
      "F1-score: 0.885 (+/-0.036) for {'penalty': 'l1', 'C': 1}\n",
      "F1-score: 0.884 (+/-0.039) for {'penalty': 'l2', 'C': 1}\n",
      "F1-score: 0.885 (+/-0.034) for {'penalty': 'l1', 'C': 0.9}\n",
      "F1-score: 0.884 (+/-0.041) for {'penalty': 'l2', 'C': 0.9}\n",
      "F1-score: 0.883 (+/-0.034) for {'penalty': 'l1', 'C': 0.8}\n",
      "F1-score: 0.883 (+/-0.042) for {'penalty': 'l2', 'C': 0.8}\n",
      "F1-score: 0.885 (+/-0.035) for {'penalty': 'l1', 'C': 0.7}\n",
      "F1-score: 0.882 (+/-0.042) for {'penalty': 'l2', 'C': 0.7}\n",
      "F1-score: 0.883 (+/-0.040) for {'penalty': 'l1', 'C': 0.6}\n",
      "F1-score: 0.884 (+/-0.044) for {'penalty': 'l2', 'C': 0.6}\n",
      "F1-score: 0.881 (+/-0.047) for {'penalty': 'l1', 'C': 0.5}\n",
      "F1-score: 0.886 (+/-0.041) for {'penalty': 'l2', 'C': 0.5}\n",
      "F1-score: 0.875 (+/-0.046) for {'penalty': 'l1', 'C': 0.25}\n",
      "F1-score: 0.878 (+/-0.046) for {'penalty': 'l2', 'C': 0.25}\n",
      "F1-score: 0.869 (+/-0.063) for {'penalty': 'l1', 'C': 0.1}\n",
      "F1-score: 0.872 (+/-0.038) for {'penalty': 'l2', 'C': 0.1}\n"
     ]
    }
   ],
   "source": [
    "grid = {\n",
    "        'C': [1, .9, .8, .7, .6, .5, .25, .1],\n",
    "        'penalty' : ['l1', 'l2']\n",
    "    }\n",
    "logit = LogisticRegression()\n",
    "loggs = GridSearchCV(logit, grid, scoring=f1_scorer, cv=kf)\n",
    "loggs.fit(X_train_counts, y_train)\n",
    "means = loggs.cv_results_['mean_test_score']\n",
    "stds = loggs.cv_results_['std_test_score']\n",
    "for mean, std, params in zip(means, stds, loggs.cv_results_['params']):\n",
    "    print(\"F1-score: %0.3f (+/-%0.03f) for %r\" % (mean, std * 2, params))"
   ]
  },
  {
   "cell_type": "markdown",
   "metadata": {},
   "source": [
    "#### Multinomial Naive Bayes with counts"
   ]
  },
  {
   "cell_type": "code",
   "execution_count": 17,
   "metadata": {
    "collapsed": false
   },
   "outputs": [
    {
     "name": "stdout",
     "output_type": "stream",
     "text": [
      "F1-score: 0.863 (+/-0.035) for {'alpha': 1}\n",
      "F1-score: 0.861 (+/-0.036) for {'alpha': 0.8}\n",
      "F1-score: 0.859 (+/-0.035) for {'alpha': 0.6}\n",
      "F1-score: 0.858 (+/-0.041) for {'alpha': 0.4}\n",
      "F1-score: 0.856 (+/-0.052) for {'alpha': 0.2}\n"
     ]
    }
   ],
   "source": [
    "grid = {\n",
    "        'alpha': [1, .8,.6, .4, .2]\n",
    "    }\n",
    "mnb = MultinomialNB()\n",
    "mnbgs = GridSearchCV(mnb, grid, scoring=f1_scorer, cv=kf)\n",
    "mnbgs.fit(X_train_counts, y_train)\n",
    "means = mnbgs.cv_results_['mean_test_score']\n",
    "stds = mnbgs.cv_results_['std_test_score']\n",
    "for mean, std, params in zip(means, stds, mnbgs.cv_results_['params']):\n",
    "    print(\"F1-score: %0.3f (+/-%0.03f) for %r\" % (mean, std * 2, params))"
   ]
  },
  {
   "cell_type": "markdown",
   "metadata": {},
   "source": [
    "#### Support vector machine with counts"
   ]
  },
  {
   "cell_type": "code",
   "execution_count": 18,
   "metadata": {
    "collapsed": false
   },
   "outputs": [
    {
     "name": "stdout",
     "output_type": "stream",
     "text": [
      "F1-score: 0.870 (+/-0.038) for {'C': 1}\n",
      "F1-score: 0.871 (+/-0.036) for {'C': 0.9}\n",
      "F1-score: 0.872 (+/-0.035) for {'C': 0.8}\n",
      "F1-score: 0.872 (+/-0.038) for {'C': 0.7}\n",
      "F1-score: 0.874 (+/-0.041) for {'C': 0.6}\n",
      "F1-score: 0.876 (+/-0.043) for {'C': 0.5}\n"
     ]
    }
   ],
   "source": [
    "grid = {\n",
    "        'C': [1, .9, .8, .7, .6, .5]\n",
    "    }\n",
    "svc = SVC(kernel='linear')\n",
    "svcgs = GridSearchCV(svc, grid, scoring=f1_scorer, cv=kf)\n",
    "svcgs.fit(X_train_counts, y_train)\n",
    "means = svcgs.cv_results_['mean_test_score']\n",
    "stds = svcgs.cv_results_['std_test_score']\n",
    "for mean, std, params in zip(means, stds, svcgs.cv_results_['params']):\n",
    "    print(\"F1-score: %0.3f (+/-%0.03f) for %r\" % (mean, std * 2, params))"
   ]
  },
  {
   "cell_type": "markdown",
   "metadata": {},
   "source": [
    "### Calculate test performance for each optimal model"
   ]
  },
  {
   "cell_type": "code",
   "execution_count": 19,
   "metadata": {
    "collapsed": false
   },
   "outputs": [
    {
     "name": "stdout",
     "output_type": "stream",
     "text": [
      "             precision    recall  f1-score   support\n",
      "\n",
      "          0       0.90      0.95      0.93       299\n",
      "          1       0.92      0.84      0.88       201\n",
      "\n",
      "avg / total       0.91      0.91      0.91       500\n",
      "\n",
      "0.908\n"
     ]
    }
   ],
   "source": [
    "logpreds = loggs.predict(X_test_counts)\n",
    "print(classification_report(y_test, logpreds))\n",
    "print accuracy_score(y_test, logpreds)"
   ]
  },
  {
   "cell_type": "code",
   "execution_count": 20,
   "metadata": {
    "collapsed": false
   },
   "outputs": [
    {
     "name": "stdout",
     "output_type": "stream",
     "text": [
      "             precision    recall  f1-score   support\n",
      "\n",
      "          0       0.90      0.92      0.91       299\n",
      "          1       0.88      0.85      0.86       201\n",
      "\n",
      "avg / total       0.89      0.89      0.89       500\n",
      "\n",
      "0.908\n"
     ]
    }
   ],
   "source": [
    "mnbpreds = mnbgs.predict(X_test_counts)\n",
    "print(classification_report(y_test, mnbpreds))\n",
    "print accuracy_score(y_test, logpreds)"
   ]
  },
  {
   "cell_type": "code",
   "execution_count": 21,
   "metadata": {
    "collapsed": false
   },
   "outputs": [
    {
     "name": "stdout",
     "output_type": "stream",
     "text": [
      "             precision    recall  f1-score   support\n",
      "\n",
      "          0       0.90      0.92      0.91       299\n",
      "          1       0.88      0.85      0.87       201\n",
      "\n",
      "avg / total       0.89      0.89      0.89       500\n",
      "\n",
      "0.908\n"
     ]
    }
   ],
   "source": [
    "svcpreds = svcgs.predict(X_test_counts)\n",
    "print(classification_report(y_test, svcpreds))\n",
    "print accuracy_score(y_test, logpreds)"
   ]
  },
  {
   "cell_type": "markdown",
   "metadata": {},
   "source": [
    "### Get most important features in logit model"
   ]
  },
  {
   "cell_type": "code",
   "execution_count": 22,
   "metadata": {
    "collapsed": true
   },
   "outputs": [],
   "source": [
    "def get_most_informative_features(vectorizer, clf, out=0, n=5):\n",
    "    feature_names = vectorizer.get_feature_names()\n",
    "    coefs_with_fns = sorted(zip(clf.best_estimator_.coef_[0], feature_names))\n",
    "    top = coefs_with_fns[:n] + coefs_with_fns[:-(n + 1):-1]\n",
    "    df = pd.DataFrame(top, columns=['Coefficient', 'Word'])\n",
    "    df = df.sort_values(by = 'Coefficient')\n",
    "    return df"
   ]
  },
  {
   "cell_type": "code",
   "execution_count": 23,
   "metadata": {
    "collapsed": true
   },
   "outputs": [],
   "source": [
    "top_features = get_most_informative_features(vectorizer=count_vect, clf=loggs, out=0, n=5)"
   ]
  },
  {
   "cell_type": "code",
   "execution_count": 24,
   "metadata": {
    "collapsed": false
   },
   "outputs": [
    {
     "data": {
      "image/png": "[encoded data removed]",
      "text/plain": [
       "<matplotlib.figure.Figure at 0x11243c710>"
      ]
     },
     "metadata": {},
     "output_type": "display_data"
    }
   ],
   "source": [
    "sns.set_style(\"whitegrid\")\n",
    "ax = sns.barplot(y=\"Word\", x=\"Coefficient\", data=top_features, palette=\"RdBu_r\")\n",
    "figure = ax.get_figure()    \n",
    "figure.savefig(\"coefplot.png\", dpi=350)"
   ]
  },
  {
   "cell_type": "markdown",
   "metadata": {},
   "source": [
    "## Import unlabelled data\n",
    "\n",
    "Note that I that I am not releasing this data as it is employed in ongoing research projects. Therefore it will not be possible to reproduce the analysis below."
   ]
  },
  {
   "cell_type": "code",
   "execution_count": 27,
   "metadata": {
    "collapsed": false
   },
   "outputs": [
    {
     "name": "stdout",
     "output_type": "stream",
     "text": [
      "(305804, 5913)\n"
     ]
    }
   ],
   "source": [
    "unlabelled = pd.read_csv('unlabelled.csv')\n",
    "X_unlabelled_counts = count_vect.transform(unlabelled['docs'])\n",
    "print X_unlabelled_counts.shape"
   ]
  },
  {
   "cell_type": "code",
   "execution_count": 29,
   "metadata": {
    "collapsed": false
   },
   "outputs": [
    {
     "data": {
      "text/html": [
       "<div>\n",
       "<table border=\"1\" class=\"dataframe\">\n",
       "  <thead>\n",
       "    <tr style=\"text-align: right;\">\n",
       "      <th></th>\n",
       "      <th>filename</th>\n",
       "      <th>date</th>\n",
       "      <th>speaker</th>\n",
       "      <th>dail</th>\n",
       "      <th>X</th>\n",
       "      <th>Name</th>\n",
       "      <th>Party</th>\n",
       "      <th>Constituency.x</th>\n",
       "      <th>Female</th>\n",
       "      <th>Dynastic</th>\n",
       "      <th>Votes</th>\n",
       "      <th>Vote_share</th>\n",
       "      <th>Quota</th>\n",
       "      <th>ff</th>\n",
       "      <th>gov</th>\n",
       "      <th>docs</th>\n",
       "    </tr>\n",
       "  </thead>\n",
       "  <tbody>\n",
       "    <tr>\n",
       "      <th>0</th>\n",
       "      <td>/gpfs/group/dynrr/ireland/xml_by_session/20/xm...</td>\n",
       "      <td>19760701</td>\n",
       "      <td>906</td>\n",
       "      <td>20</td>\n",
       "      <td>454</td>\n",
       "      <td>Michael O'Kennedy</td>\n",
       "      <td>Fianna Fail</td>\n",
       "      <td>Tipperary North</td>\n",
       "      <td>0</td>\n",
       "      <td>0</td>\n",
       "      <td>5709</td>\n",
       "      <td>20.14</td>\n",
       "      <td>0.81</td>\n",
       "      <td>1</td>\n",
       "      <td>0</td>\n",
       "      <td>and ruairí brugha asked the minister for forei...</td>\n",
       "    </tr>\n",
       "    <tr>\n",
       "      <th>1</th>\n",
       "      <td>/gpfs/group/dynrr/ireland/xml_by_session/20/xm...</td>\n",
       "      <td>19760701</td>\n",
       "      <td>906</td>\n",
       "      <td>20</td>\n",
       "      <td>454</td>\n",
       "      <td>Michael O'Kennedy</td>\n",
       "      <td>Fianna Fail</td>\n",
       "      <td>Tipperary North</td>\n",
       "      <td>0</td>\n",
       "      <td>0</td>\n",
       "      <td>5709</td>\n",
       "      <td>20.14</td>\n",
       "      <td>0.81</td>\n",
       "      <td>1</td>\n",
       "      <td>0</td>\n",
       "      <td>asked the minister for foreign affairs if the ...</td>\n",
       "    </tr>\n",
       "    <tr>\n",
       "      <th>2</th>\n",
       "      <td>/gpfs/group/dynrr/ireland/xml_by_session/20/xm...</td>\n",
       "      <td>19760701</td>\n",
       "      <td>313</td>\n",
       "      <td>20</td>\n",
       "      <td>385</td>\n",
       "      <td>Barry Desmond</td>\n",
       "      <td>Labour Party</td>\n",
       "      <td>Dun Laoghaire and Rathdown</td>\n",
       "      <td>0</td>\n",
       "      <td>0</td>\n",
       "      <td>5768</td>\n",
       "      <td>13.73</td>\n",
       "      <td>0.69</td>\n",
       "      <td>0</td>\n",
       "      <td>1</td>\n",
       "      <td>asked the minister for foreign affairs if he w...</td>\n",
       "    </tr>\n",
       "    <tr>\n",
       "      <th>3</th>\n",
       "      <td>/gpfs/group/dynrr/ireland/xml_by_session/20/xm...</td>\n",
       "      <td>19760701</td>\n",
       "      <td>198</td>\n",
       "      <td>20</td>\n",
       "      <td>344</td>\n",
       "      <td>Edward Collins</td>\n",
       "      <td>Fine Gael</td>\n",
       "      <td>Waterford</td>\n",
       "      <td>0</td>\n",
       "      <td>0</td>\n",
       "      <td>6719</td>\n",
       "      <td>21.78</td>\n",
       "      <td>0.87</td>\n",
       "      <td>0</td>\n",
       "      <td>1</td>\n",
       "      <td>asked the minister for foreign affairs if he i...</td>\n",
       "    </tr>\n",
       "    <tr>\n",
       "      <th>4</th>\n",
       "      <td>/gpfs/group/dynrr/ireland/xml_by_session/20/xm...</td>\n",
       "      <td>19760701</td>\n",
       "      <td>768</td>\n",
       "      <td>20</td>\n",
       "      <td>241</td>\n",
       "      <td>Bobby Molloy</td>\n",
       "      <td>Fianna Fail</td>\n",
       "      <td>Galway West</td>\n",
       "      <td>0</td>\n",
       "      <td>0</td>\n",
       "      <td>7028</td>\n",
       "      <td>28.31</td>\n",
       "      <td>1.13</td>\n",
       "      <td>1</td>\n",
       "      <td>0</td>\n",
       "      <td>asked the minister for foreign affairs if he h...</td>\n",
       "    </tr>\n",
       "  </tbody>\n",
       "</table>\n",
       "</div>"
      ],
      "text/plain": [
       "                                            filename      date  speaker  dail  \\\n",
       "0  /gpfs/group/dynrr/ireland/xml_by_session/20/xm...  19760701      906    20   \n",
       "1  /gpfs/group/dynrr/ireland/xml_by_session/20/xm...  19760701      906    20   \n",
       "2  /gpfs/group/dynrr/ireland/xml_by_session/20/xm...  19760701      313    20   \n",
       "3  /gpfs/group/dynrr/ireland/xml_by_session/20/xm...  19760701      198    20   \n",
       "4  /gpfs/group/dynrr/ireland/xml_by_session/20/xm...  19760701      768    20   \n",
       "\n",
       "     X               Name         Party              Constituency.x  Female  \\\n",
       "0  454  Michael O'Kennedy   Fianna Fail             Tipperary North       0   \n",
       "1  454  Michael O'Kennedy   Fianna Fail             Tipperary North       0   \n",
       "2  385      Barry Desmond  Labour Party  Dun Laoghaire and Rathdown       0   \n",
       "3  344     Edward Collins     Fine Gael                   Waterford       0   \n",
       "4  241       Bobby Molloy   Fianna Fail                 Galway West       0   \n",
       "\n",
       "   Dynastic  Votes  Vote_share  Quota  ff  gov  \\\n",
       "0         0   5709       20.14   0.81   1    0   \n",
       "1         0   5709       20.14   0.81   1    0   \n",
       "2         0   5768       13.73   0.69   0    1   \n",
       "3         0   6719       21.78   0.87   0    1   \n",
       "4         0   7028       28.31   1.13   1    0   \n",
       "\n",
       "                                                docs  \n",
       "0  and ruairí brugha asked the minister for forei...  \n",
       "1  asked the minister for foreign affairs if the ...  \n",
       "2  asked the minister for foreign affairs if he w...  \n",
       "3  asked the minister for foreign affairs if he i...  \n",
       "4  asked the minister for foreign affairs if he h...  "
      ]
     },
     "execution_count": 29,
     "metadata": {},
     "output_type": "execute_result"
    }
   ],
   "source": [
    "unlabelled.head(5)"
   ]
  },
  {
   "cell_type": "markdown",
   "metadata": {},
   "source": [
    "### Generate word cloud using the text from the unlabelled corpus"
   ]
  },
  {
   "cell_type": "code",
   "execution_count": 30,
   "metadata": {
    "collapsed": true
   },
   "outputs": [],
   "source": [
    "text = ' '.join(unlabelled['docs'].tolist())"
   ]
  },
  {
   "cell_type": "code",
   "execution_count": 31,
   "metadata": {
    "collapsed": true
   },
   "outputs": [],
   "source": [
    "stopwords = set(STOPWORDS)\n",
    "stopwords.add(\"minister\")\n",
    "stopwords.add(\"asked\")\n",
    "stopwords.add(\"statement\")\n",
    "stopwords.add(\"make\")\n",
    "stopwords.add(\"will\")\n",
    "stopwords.add(\"matter\")"
   ]
  },
  {
   "cell_type": "code",
   "execution_count": 32,
   "metadata": {
    "collapsed": true
   },
   "outputs": [],
   "source": [
    "wordcloud = WordCloud(background_color=\"white\", max_words=2000, stopwords = stopwords,\n",
    "                      max_font_size=40, random_state=42).generate(text)"
   ]
  },
  {
   "cell_type": "code",
   "execution_count": 33,
   "metadata": {
    "collapsed": false
   },
   "outputs": [
    {
     "data": {
      "image/png": "[encoded data removed]",
      "text/plain": [
       "<matplotlib.figure.Figure at 0x1251dde90>"
      ]
     },
     "metadata": {},
     "output_type": "display_data"
    }
   ],
   "source": [
    "plt.imshow(wordcloud, interpolation='bilinear')\n",
    "plt.axis(\"off\")\n",
    "plt.savefig('qs_wordcloud.png', dpi=650)"
   ]
  },
  {
   "cell_type": "markdown",
   "metadata": {},
   "source": [
    "### Plot number of questions submitted over time"
   ]
  },
  {
   "cell_type": "code",
   "execution_count": 34,
   "metadata": {
    "collapsed": false
   },
   "outputs": [
    {
     "data": {
      "image/png": "[encoded data removed]",
      "text/plain": [
       "<matplotlib.figure.Figure at 0x1126b3150>"
      ]
     },
     "metadata": {},
     "output_type": "display_data"
    }
   ],
   "source": [
    "doccounts = unlabelled.groupby('dail')['dail'].count()\n",
    "doccounts = pd.DataFrame({'Dail':doccounts.index, 'Questions':doccounts.values})\n",
    "ax = sns.pointplot(x=\"Dail\", y=\"Questions\", data=doccounts, sharex=False, sharey=False, color='black')\n",
    "ax.set(ylim=(0, None))\n",
    "ax.set(xlabel='Dail Eireann', ylabel='Questions submitted by legislators')\n",
    "figure = ax.get_figure()    \n",
    "figure\n",
    "figure.savefig(\"qstimeplot.png\", dpi=350, bbox_inches='tight')"
   ]
  }
 ],
 "metadata": {
  "anaconda-cloud": {},
  "kernelspec": {
   "display_name": "Python [Root]",
   "language": "python",
   "name": "Python [Root]"
  },
  "language_info": {
   "codemirror_mode": {
    "name": "ipython",
    "version": 2
   },
   "file_extension": ".py",
   "mimetype": "text/x-python",
   "name": "python",
   "nbconvert_exporter": "python",
   "pygments_lexer": "ipython2",
   "version": "2.7.12"
  }
 },
 "nbformat": 4,
 "nbformat_minor": 0
}
